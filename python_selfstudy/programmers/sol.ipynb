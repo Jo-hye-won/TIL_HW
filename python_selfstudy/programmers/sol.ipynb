{
 "cells": [
  {
   "cell_type": "markdown",
   "metadata": {},
   "source": [
    "### 추억 점수\n",
    "> 문제 설명 \n",
    "사진들을 보며 추억에 젖어 있던 루는 사진별로 추억 점수를 매길려고 합니다. 사진 속에 나오는 인물의 그리움 점수를 모두 합산한 값이 해당 사진의 추억 점수가 됩니다. 예를 들어 사진 속 인물의 이름이 [\"may\", \"kein\", \"kain\"]이고 각 인물의 그리움 점수가 [5점, 10점, 1점]일 때 해당 사진의 추억 점수는 16(5 + 10 + 1)점이 됩니다. 다른 사진 속 인물의 이름이 [\"kali\", \"mari\", \"don\", \"tony\"]이고 [\"kali\", \"mari\", \"don\"]의 그리움 점수가 각각 [11점, 1점, 55점]]이고, \"tony\"는 그리움 점수가 없을 때, 이 사진의 추억 점수는 3명의 그리움 점수를 합한 67(11 + 1 + 55)점입니다.\n",
    "\n",
    "그리워하는 사람의 이름을 담은 문자열 배열 name, 각 사람별 그리움 점수를 담은 정수 배열 yearning, 각 사진에 찍힌 인물의 이름을 담은 이차원 문자열 배열 photo가 매개변수로 주어질 때, 사진들의 추억 점수를 photo에 주어진 순서대로 배열에 담아 return하는 solution 함수를 완성해주세요.\n",
    "\n",
    "- input\n",
    "> name = [\"may\", \"kein\", \"kain\", \"radi\"]\n",
    "> yearning = [5, 10, 1, 3]\n",
    "> photo = [[\"may\", \"kein\", \"kain\", \"radi\"],[\"may\", \"kein\", \"brin\", \"deny\"], [\"kon\", \"kain\", \"may\", \"coni\"]]\n",
    "\n",
    "- result\n",
    "> [19, 15, 6]\n"
   ]
  },
  {
   "cell_type": "code",
   "execution_count": 1,
   "metadata": {},
   "outputs": [],
   "source": [
    "# for문으로 풀려면 \n",
    "def solution(name, yearning, photo):\n",
    "    answer = []\n",
    "    for i in photo:\n",
    "        cnt = 0\n",
    "        for j, k in enumerate(name):\n",
    "            if i in i:\n",
    "                cnt += yearning[j]\n",
    "        answer.appnd(cnt)\n",
    "    \n",
    "    return answer\n",
    "\n",
    "# 런타임 에러 뜬다..."
   ]
  },
  {
   "cell_type": "markdown",
   "metadata": {},
   "source": [
    "## 리스트 두 개로 dict 만드는 방법\n",
    "```python \n",
    "dessert = ['쿠키','마들렌','마카롱', '케이크']\n",
    "num = [1,2,3,4]\n",
    "\n",
    "dessert_dict_1 = {name:value for name, value in zip(dessert, num)}\n",
    ">> {'쿠키':1, '마들렌':2, '마카롱':3, '케이크':4}\n",
    "\n",
    "dessert_dict_2 = dict(zip(dessert, num))\n",
    ">> {'쿠키':1, '마들렌':2, '마카롱':3, '케이크':4}\n",
    "```"
   ]
  },
  {
   "cell_type": "code",
   "execution_count": null,
   "metadata": {},
   "outputs": [],
   "source": [
    "# get 함수 사용해서 푸는 방법\n",
    "def solution(name, yearning, photo):\n",
    "    answer = []\n",
    "    # 이름이랑 점수 리스트를 딕셔너리로 만들어서 짝을 지어준다.\n",
    "    sol_dict = dict(zip(name, yearning))\n",
    "    # 사진 속 사람들 이름 있는지 확인하면서\n",
    "    for people in photo:\n",
    "        # 점수 누적시키기 위한 변수 선언\n",
    "        score = 0\n",
    "        # 개별 사람의 점수 확인 하기\n",
    "        for person in people:\n",
    "            # 사람 별 점수를 누적, 없는 사람은 0\n",
    "            score += sol_dict.get(person,0)\n",
    "        answer.append(score)  \n",
    "    return answer"
   ]
  },
  {
   "cell_type": "code",
   "execution_count": null,
   "metadata": {},
   "outputs": [],
   "source": [
    "# key값 활용해서 푸는 방법\n",
    "\n",
    "def solution(name, yearning, photo):\n",
    "    answer = []\n",
    "    # 이름이랑 점수 리스트를 딕셔너리로 만들어서 짝을 지어준다.\n",
    "    sol_dict = dict(zip(name, yearning))\n",
    "    ans = 0\n",
    "\n",
    "    for people in photo:\n",
    "        for p in people:\n",
    "            if p in sol_dict.keys():\n",
    "                ans += sol_dict[p]\n",
    "        answer.append(ans)\n",
    "        ans = 0\n",
    "    return answer"
   ]
  },
  {
   "cell_type": "code",
   "execution_count": null,
   "metadata": {},
   "outputs": [],
   "source": [
    "# index함수 활용해서 푸는 방법\n",
    "\n",
    "def solution(name, yearning, photo):\n",
    "    answer = []\n",
    "    \n",
    "    for people in photo:\n",
    "        ans = 0\n",
    "        for p in range(len(people)):\n",
    "            if people[p] in name:\n",
    "                index = name.index(people[p])\n",
    "                ans += yearning[index]\n",
    "        answer.append(ans)\n",
    "    return answer"
   ]
  }
 ],
 "metadata": {
  "kernelspec": {
   "display_name": "Python 3",
   "language": "python",
   "name": "python3"
  },
  "language_info": {
   "codemirror_mode": {
    "name": "ipython",
    "version": 3
   },
   "file_extension": ".py",
   "mimetype": "text/x-python",
   "name": "python",
   "nbconvert_exporter": "python",
   "pygments_lexer": "ipython3",
   "version": "3.9.13"
  }
 },
 "nbformat": 4,
 "nbformat_minor": 2
}
