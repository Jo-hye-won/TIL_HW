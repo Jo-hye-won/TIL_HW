{
 "cells": [
  {
   "cell_type": "markdown",
   "metadata": {},
   "source": [
    "## A. 데이터 전처리 - 데이터 읽어오기"
   ]
  },
  {
   "cell_type": "code",
   "execution_count": null,
   "metadata": {},
   "outputs": [],
   "source": [
    "# 패키지 import\n",
    "import numpy as np\n",
    "import pandas as pd\n",
    "import matplotlib.pyplot as plt\n",
    "import datetime"
   ]
  },
  {
   "cell_type": "code",
   "execution_count": null,
   "metadata": {},
   "outputs": [],
   "source": [
    "# # Numpy 활용해서 csv file 불러오기\n",
    "# def file_open_by_numpy():\n",
    "#     np_arr = np.loadtxt('Data/NFLX.csv', delimiter=\",\", encoding='cp949', dtype=str)\n",
    "#     return np_arr\n",
    "\n",
    "# CSV 파일 경로\n",
    "csv_path = \"Data/NFLX.csv\"\n",
    "\n",
    "# CSV 파일 읽어오기 (첫 번째, 마지막 열 제외)\n",
    "df = pd.read_csv(csv_path, usecols=range(0,5))\n",
    "\n",
    "# DataFrame 출력\n",
    "df"
   ]
  },
  {
   "cell_type": "code",
   "execution_count": null,
   "metadata": {},
   "outputs": [],
   "source": [
    "# arr = file_open_by_numpy()\n",
    "# print(arr)\n",
    "# type(arr)\n",
    "# # 데이터 프레임 생성하기\n",
    "# df = pd.DataFrame(arr)\n",
    "# df\n",
    "# 그런데 [‘Date’, ‘Open’, ‘High’, ‘Low’, ‘Close’ ] 필드만 읽어오도록 구성해야 하니까\n",
    "# 특정 범위의 열만 가져오기(True/False 배열을 이용해서 True인 행만 가져오기)\n",
    "# df.loc[:,[True,True,True,True,True,False,False]]"
   ]
  }
 ],
 "metadata": {
  "language_info": {
   "name": "python"
  },
  "orig_nbformat": 4
 },
 "nbformat": 4,
 "nbformat_minor": 2
}
