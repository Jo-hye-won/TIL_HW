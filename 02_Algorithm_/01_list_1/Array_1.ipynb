{
 "cells": [
  {
   "cell_type": "markdown",
   "metadata": {},
   "source": [
    "# APS 기본\n",
    "## 배열 1(Array)\n",
    "- 알고리즘\n",
    "- 배열\n",
    "- 버블 정렬(Bubble Sort)\n",
    "- 카운팅 정렬(Counting Sort)\n",
    "- 완전검색\n",
    "- 그리디(Greedy Algorithm)\n"
   ]
  },
  {
   "cell_type": "markdown",
   "metadata": {},
   "source": [
    "## 알고리즘\n",
    "> 유한한 단계를 통해 문제를 해결하기 위한 절차나 방법\n",
    "- 주로 컴퓨터용어로 쓰이며, 컴퓨터가 어떤 일을 수행하기 위한 단계적 방법을 말함\n",
    "- 어떠한 문제를 해결하기 위한 절차라고 볼 수 있음 \n",
    "    - ex. 1부터 100까지의 합을 구하는 문제 \n",
    "\n",
    "> SWEA programming Intermediate 의 tree까지 다룸\n",
    "> SWEA programming Advanced는 그래프의 최소비용문제까지 다룰 것임\n",
    "\n"
   ]
  },
  {
   "cell_type": "code",
   "execution_count": 10,
   "metadata": {},
   "outputs": [
    {
     "name": "stdout",
     "output_type": "stream",
     "text": [
      "5050\n"
     ]
    }
   ],
   "source": [
    "# 1부터 100까지 합을 구하는 문제 알고리즘 1\n",
    "sum = 0\n",
    "for i in range(1,101):\n",
    "    sum = sum + i\n",
    "print(sum)"
   ]
  },
  {
   "cell_type": "markdown",
   "metadata": {},
   "source": [
    "> 컴퓨터 분야에서 알고리즘을 표현하는 방법은 크게 두 가지\n",
    "1. 의사코드(슈도코드,Pseudocode)와 순서도\n",
    "\n",
    "> APS 과정의 목표 중의 하나는 보다 좋은 알고리즘을 이해하고 활용하는 것\n",
    "\n",
    "### 무엇이 좋은 알고리즘인가?\n",
    "1. 정확성 : 얼마나 정확하게 동작하는가!!\n",
    "2. 작업량 : 얼마나 적은 연산으로 원하는 결과를 얻어내는가\n",
    "3. 메모리 사용량 : 얼마나 적은 메모리를 사용하는가\n",
    "4. 단순성 : 얼마나 단순한가\n",
    "5. 최적성 : 더 이상 개선할 여지없이 최적화되었는가\n",
    "\n",
    "> 주어진 문제를 해결하기 위해 여러 개의 다양한 알고리즘이 가능 \n",
    "  => 어떤 알고리즘을 사용해야 하는가?\n",
    "  - 알고리즘의 성능 분석 필요\n",
    "    - 많은 문제에서 성능 분석의 기준으로 알고리즘의 작업량을 비교한다.\n",
    "    \n"
   ]
  },
  {
   "cell_type": "code",
   "execution_count": 9,
   "metadata": {},
   "outputs": [
    {
     "name": "stdout",
     "output_type": "stream",
     "text": [
      "5050\n"
     ]
    }
   ],
   "source": [
    "# 1부터 100까지 합을 구하는 문제 알고리즘 2\n",
    "ls = []\n",
    "for i in range(1,101):\n",
    "    ls.append(i)\n",
    "    sums = (ls[-1] * (ls[0]+ls[-1])) / 2\n",
    "print(int(sums))"
   ]
  },
  {
   "cell_type": "markdown",
   "metadata": {},
   "source": [
    "- 알고리즘의 작업량을 표현할 때 시간복잡도로 표현한다\n",
    "### 시간복잡도(Time Complxity)\n",
    "- 실제 걸리는 시간을 측정\n",
    "- 실행되는 명령문의 개수를 계산"
   ]
  },
  {
   "cell_type": "code",
   "execution_count": 2,
   "metadata": {},
   "outputs": [
    {
     "data": {
      "text/plain": [
       "5050"
      ]
     },
     "execution_count": 2,
     "metadata": {},
     "output_type": "execute_result"
    }
   ],
   "source": [
    "# 알고리즘 1\n",
    "def CalcSum(n):\n",
    "    sum = 0\n",
    "    for i in range(1, n+1):\n",
    "        sum = sum +i\n",
    "    return sum\n",
    "\n",
    "CalcSum(100)\n",
    "\n",
    "\n",
    "# 알고리즘 2\n",
    "def calsum(n):\n",
    "    return (n*(n+1))//2\n",
    "\n",
    "calsum(100)\n"
   ]
  },
  {
   "cell_type": "markdown",
   "metadata": {},
   "source": [
    "### 시간 복잡도 => 빅-오(O) 표기법(Big-Oh Notation)\n",
    "- 시간 복잡도 함수 중에서 가장 큰 영향력을 주는 n 에 대한 항만을 표시\n",
    "- 계수(Coefficient)는 생략하여 표시\n",
    "  - 예를들어  O(3n +2)     \n",
    "          \n",
    "                            = O(3n)           = O(n) <= 입력의 크기에 관계없이 동일안 계산량\n",
    "  \n",
    "                        최고차항(3n만 선택)   계수 3제거\n",
    "\n",
    "-  n개의 데이터를 입력 받아 저장한 후 각 데이터에 1씩 증가시킨 후 각 데이터를 화면에 출력하는 알고리즘의 시간복잡도는 어떻게 되나? => O(n)"
   ]
  },
  {
   "cell_type": "markdown",
   "metadata": {},
   "source": [
    "### 배열이란 무엇인가?\n",
    "> 일정한 자료형의 변수들을 하나의 이름으로 열거하여 사용하는 자료구조\n",
    "- 자료구조에서 인덱스 사용해서 접근할 수 있는 접근방식을 다 배열이라고 함(인덱스로 저장하는 접근 방식에 대한 얘기)\n",
    "\n",
    "#### 배열의 필요성\n",
    "- 프로그램 내에서 여러 개의 변수가 필요할 때, 일일이 다른 변수명을 이용하여 자료에 접근하는 것은 매우 비효율적일 수 있다. \n",
    "- 배열을 사용하면 하나의 선언을 통해 둘 이상의 변수를 선언할 수 있음\n",
    "- 단순히 다수의 변수 선언을 의미하는 것이 아니라, 다수의 변수로는 하기 힘든 작업을 배열을 활용해 쉽게 할 수 있다. \n",
    "\n",
    "### 1차원 배열의 선언\n",
    "- 별도의 선언 방법이 없으면 변수에 처음 값을 할당할 때 생성\n",
    "- 이름 : 프로그램에서 사용할 배열의 이름\n",
    "\n"
   ]
  },
  {
   "cell_type": "code",
   "execution_count": 3,
   "metadata": {},
   "outputs": [
    {
     "name": "stdout",
     "output_type": "stream",
     "text": [
      "[0, 0, 0, 0, 0, 0, 0, 0, 0, 0]\n"
     ]
    }
   ],
   "source": [
    "# 1차원 배열 선언의 예\n",
    "Arr = list()\n",
    "Arr = []\n",
    "Arr = [1,2,3]\n",
    "Arr = [0] * 10 # 10칸짜리 배열\n",
    "print(Arr)"
   ]
  },
  {
   "cell_type": "markdown",
   "metadata": {},
   "source": [
    "#### 1차원 배열의 접근\n",
    "- Arr[0] = 10    # 배열Arr의 0번 원소에 10을 저장하라\n",
    "- ARR[idx] = 20  # 배열 Arr의 idx번 원소에 20을 저장하라\n",
    "\n",
    "### < 배열 활용 예제 : Gravity>\n",
    "- 상자들이 쌓여있는 방이 있다. 방이 오른쪽으로 90도 회전하여 상자들이 중력의 영향을 받아 낙하한다고 할 때, 낙차가 가장 큰 상자를 구하여 그 낙차를 리턴하는 프로그램을 작성하시오.\n",
    "- 중력은 회전이 완료된 후 적용된다. \n",
    "- 상자들은 모두 한쪽 벽면에 붙여진 상태로 쌓여 2차원의 형태를 이루며 벽에서 떨어져서 쌓인 상자는 없다. \n",
    "- 방의 가로길이는 항상 100이며, 세로 길이도 항상 100이다.\n",
    "- 즉, 상자는 최소 0, 최대 100 높이로 쌓을 수 있다.\n"
   ]
  },
  {
   "cell_type": "markdown",
   "metadata": {},
   "source": [
    "### 정렬\n",
    "- 2개 이상의 자료를 특정 기준에 의해 작은 값부터 큰값(오름차순), 혹은 그 반대의 순서대로(내림차순:descending) 재배열 하는 것\n",
    "> 키 : 자료를 정렬하는 기준이 되는 특정 값\n",
    "\n",
    "\n",
    "#### 대표적인 정렬 방식의 종류\n",
    "1. 버블 정렬\n",
    "2. 카운팅 정렬\n",
    "3. 선택 정렬\n",
    "4. 퀵 정렬\n",
    "5. 삽입 정렬\n",
    "6. 병합 정렬"
   ]
  },
  {
   "cell_type": "markdown",
   "metadata": {},
   "source": [
    "## 버블 정렬(Bubble Sort)\n",
    "> 인접한 두 개의 원소를 비교하며 자리를 계속 교환하는 방식\n",
    "\n",
    "<정렬 과정>\n",
    "- 첫 번째 원소부터 인접한 원소끼리 계속 자리를 교환하면서 맨 마지막 자리까지 이동한다.\n",
    "- 한 단계가 끝나면 가장 큰 원소가 마지막 자리로 정렬된다.\n",
    "- 교환하며 자리를 이동하는 모습이 물 위에 올라오는 거품 모양과 같다고 하여 버블 정렬이라고 한다.\n",
    "\n",
    "<시간 복잡도>\n",
    " - O(n²)"
   ]
  },
  {
   "cell_type": "code",
   "execution_count": 18,
   "metadata": {},
   "outputs": [],
   "source": [
    "# 배열을 활용한 버블 정렬\n",
    "def BubbleSort(a,N):                    # 정렬할 List, N 원소 수\n",
    "    for i in range(N-1, 0, -1):         # 정렬될 범위의 끝 위치\n",
    "        for j in range(0, i):\n",
    "            if a[j] > a[j+1]:\n",
    "                a[j], a[j+1] = a[j+1], a[j]"
   ]
  },
  {
   "cell_type": "markdown",
   "metadata": {},
   "source": [
    "## 카운팅 정렬(Counting Sort)\n",
    "> 항목들의 순서를 결정하기 위해 집합에 각 항목이 몇 개씩 있는지 세는 작업을 하여, 선형 시간에 정렬하는 효율적인 알고리즘\n",
    "\n",
    "<제한 사항>\n",
    "- 정수나 정수로 표현할 수 있는 자료에 대해서만 적용 가능 : 각 항목의 발생 횟수를 기록하기 위해, 정수 항목으로 인덱스 되는 카운트들의 배열을 사용하기 때문\n",
    "- 카운트들을 위한 충분한 공간을 할당하려면 집합 내의 가장 큰 정수를 알아야 함\n",
    "\n",
    "<시간 복잡도>\n",
    "- O(n = k) : n은 리스트 길이, k는 정수의 최대값\n",
    "\n",
    "<정렬 과정>\n",
    "1. Data에서 각 항목들의 발생 회수를 세고, 정수 항목들로 직접 인덱스 되는 카운트 배열 counts에 저장한다.\n",
    "2. 정렬된 집합에서 각 항목의 앞에 위치할 항목의 개수를 반여하기 위해 counts의 원소를 조정한다.\n",
    "\n",
    "> 마지막원소 1이 몇번째자리까지 차지하고있니? 4번째자리까지 차지하고 있어.그럼 네번째자리에 1을 써줘 그러고 남은 1은 누적한 개수가 3이되는데 쓸자리가 4번째 즉,인덱스가 3이니까 counts[data[j]]을 하나 감소시켜서 그 것을 temp에 삽입한다.\n"
   ]
  },
  {
   "cell_type": "code",
   "execution_count": 19,
   "metadata": {},
   "outputs": [],
   "source": [
    "# 카운팅 정렬 알고리즘\n",
    "def Counting_Sort(A, B, k):\n",
    "    # A _ 입력 배열(DATA)\n",
    "    # B _ 정렬된 배열(TEMP)\n",
    "    # C _ 카운트 배열(COUNTS)\n",
    "\n",
    "    C = [0] * (k+1) # 0부터 k까지 존재해야 하기 때문에\n",
    "\n",
    "    for i in range(0, len(A)):\n",
    "        C[A[i]] += 1 # 원본 배열에 있는 애들을 꺼내서 몇개씩인지 체크\n",
    "\n",
    "    for i in range(1, len(C)):\n",
    "        C[i] += C[i-1]  # 누적하는 과정\n",
    "    \n",
    "    for i in range(len(B)-1, -1, -1): # 원본의 마지막 원소부터 가져옴\n",
    "        C[A[i]] -= 1 # 카운트 값 감소시키고\n",
    "        B[C[A[i]]] = A[i]   # 카운트 값-1에 해당하는 인덱스 자리에 가져다두면 끝\n",
    "        "
   ]
  },
  {
   "cell_type": "markdown",
   "metadata": {},
   "source": [
    "< 버블 정렬과 카운팅 정렬의 비교>\n",
    "- 버블 정렬 = 비교와 교환 알고리즘 기법 / 코딩이 가장 손쉬움 \n",
    "- 카운팅 정렬 = 비교환 방식 알고리즘 기법 / n이 비교적 작을 때만 가능\n",
    "   - 인덱스에 존재할 수 없는 범위는 ~(강의 35분)\n",
    "   "
   ]
  },
  {
   "cell_type": "markdown",
   "metadata": {},
   "source": [
    "## Baby-gin Game\n",
    "- 0-9 사이의 숫자 카드에서 임의의 카드 6장을 뽑았을 때, 3장의 카드가 연속적인 번호를 갖는 경우를 run이라 하고, 3장의 카드가 동일한 번호를 갖는 경우를 triplet이라고 한다.\n",
    "- 그리고, 6장의 카드가 run 과 triplet으로만 구성된 경우를 baby-gin이라 함\n",
    "- 6자리의 숫자를 입력받아 baby-gin 여부를 판단하는 프로그램을 작성하라\n",
    "\n",
    "<입력 예>\n",
    "- 667767은 두 개의 triplet이므로 baby-gin이다.(666, 777)\n",
    "- 054060은 한 개의 run과 한 개의 triplet이므로 역시 baby-gin이다.(456, 000)\n",
    "- 101123은 한 개의 triplet이 존재하나, 023이 run이 아니므로 baby-gin이 아니다.(123을 run으로 사용하더라도 011이 run이나 triplet이 아님)\n",
    "\n",
    "> 6자리의 숫자를 입력받아서 어떻게 Baby-gin 여보를 찾을 것인가?"
   ]
  },
  {
   "cell_type": "markdown",
   "metadata": {},
   "source": [
    "### 완전 검색(Exaustive Search)\n",
    "> 문제의 해법으로 생각할 수 있는 모든 경우의 수를 나열해보고 확인하는 기법\n",
    "- Brute-force 혹은 generate-and-test 기법이라고도 불림\n",
    "- 모든 경우의 수를 테스트한 후, 최종 해법 도출\n",
    "- 일반적으로 경우의 수가 상대적으로 작을 때 유용\n",
    "\n",
    "- 모든 경우의 수를 생성하고 테스트하기 때문에 수행 속도는 느리지만, 해답을 찾아내지 못할 확률이 작다.\n",
    "- 자격검정평가 등에서 주어진 문제를 풀 때, 우선 완전 검색으로 접근하여 해답을 도출한 후, 성능 개선을 위해 다른 알고리즘을 사용하고 해답을 확인하는 것이 바람직하다. "
   ]
  },
  {
   "cell_type": "markdown",
   "metadata": {},
   "source": [
    "### 완전 검색을 활용한 Baby-gin 접근\n",
    "1. 고려할 수 있는 모든 경우의 수 생성하기\n",
    "  - 6개의 숫자로 만들 수 있는 모든 숫자 나열(중복 포함)\n",
    "  - 입력으로 [2,3,5,7,7,7]을 받았을 경우, 아래와 같이 순열을 생성할 수 있다.\n",
    "\n",
    "2. 해답 테스트하기 \n",
    "  - 앞의 3자리와 뒤의 3자리를 잘라, run과 triplet 여보를 테스트하고 최종적으로 baby-gin을 판단\n",
    "  "
   ]
  },
  {
   "cell_type": "markdown",
   "metadata": {},
   "source": [
    "## 순열(Permutation)\n",
    "> 서로 다른 것들 중 몇 개를 뽑아서 한 줄로 나열하는 것\n",
    "- 서로 다른 n개 중 r개를 택하는 순열은 다음과 같이 표현한다. => nPr\n",
    "- 그리고 nPr은 다음과 같은 식이 성립한다.\n",
    "> nPR = n * (n-1) * (n-2) * ··· * (n-r+1)\n",
    "\n",
    "- nPn = n!이라고 표기하며 Factorial 이라 부른다.\n",
    "> n! = n * (n-1) * (n-2) * ··· * 2 * 1"
   ]
  },
  {
   "cell_type": "code",
   "execution_count": 3,
   "metadata": {},
   "outputs": [
    {
     "name": "stdout",
     "output_type": "stream",
     "text": [
      "1 2 3\n",
      "1 3 2\n",
      "2 1 3\n",
      "2 3 1\n",
      "3 1 2\n",
      "3 2 1\n"
     ]
    }
   ],
   "source": [
    "# {1,2,3}을 포함하는 모든 순열을 생성하는 함수\n",
    "# 동일한 숫자가 포함되지 않았을 때, \n",
    "# 각 자리 수 별로 loop을 이용해 아래와 같이 구현할 수 있다. \n",
    "\n",
    "for i1 in range(1,4):\n",
    "    for i2 in range(1,4):\n",
    "        if i2 != i1:    # i1한거 탈락\n",
    "            for i3 in range(1,4):\n",
    "                if i3 != i1 and i3 != i2:      # i1,i2한거 탈락\n",
    "                    print(i1 ,i2, i3)\n",
    "            "
   ]
  },
  {
   "cell_type": "markdown",
   "metadata": {},
   "source": [
    "## 탐욕(Greedy) 알고리즘\n",
    "> 탐욕 알고리즘(탐욕 기법)은 최적해를 구하는 데 사용되는 근시안적인 방법\n",
    "- 여러 경우 중 하나를 결정해야 할 때마다 그 순간에 최적이라고 생각되는 것을 선택해 나가는 방식으로 진행하여 최종적인 해답에 도달\n",
    "- 각 선택의 시점에서 이루어지는 결정은 지역적으로는 최적이지만, 그 선택들을 계속 수집하여 최종적인 해답을 만들었다고 하여, 그것이 최적이라는 보장은 없다.\n",
    "- 일반적으로, 머릿속에 떠오르는 생각을 검증 없이 바로 구현하면 Greedy접근이 된다. \n",
    "\n",
    "### 동작 과정\n",
    "1. 해 선택\n",
    " : 현재 상태에서 부분 문제의 최적 해를 구한 뒤, 이를 부분해집합(Solution Set)에 추가한다.\n",
    "\n",
    "2. 실행 가능성 검사 \n",
    " : 새로운 부분해 집합이 실행 가능한지를 확인한다. 곧, 문제의 제약조건을 위반하지 않는지를 검사한다.\n",
    "\n",
    "3. 해 검사 \n",
    " : 새로운 부분해 집합이 문제의 해가 되는지를 확인한다.\n",
    " 아직 전체 문제의 해가 완성되지 않았다면 1)의 해 선택부터 다시 시작한다. \n"
   ]
  },
  {
   "cell_type": "markdown",
   "metadata": {},
   "source": []
  }
 ],
 "metadata": {
  "kernelspec": {
   "display_name": "Python 3",
   "language": "python",
   "name": "python3"
  },
  "language_info": {
   "codemirror_mode": {
    "name": "ipython",
    "version": 3
   },
   "file_extension": ".py",
   "mimetype": "text/x-python",
   "name": "python",
   "nbconvert_exporter": "python",
   "pygments_lexer": "ipython3",
   "version": "3.9.13"
  },
  "orig_nbformat": 4
 },
 "nbformat": 4,
 "nbformat_minor": 2
}
